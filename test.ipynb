{
 "cells": [
  {
   "cell_type": "code",
   "execution_count": 1,
   "id": "794e1739-0b08-42c4-a466-6baaa22fda27",
   "metadata": {},
   "outputs": [],
   "source": [
    "import pandas as pd"
   ]
  },
  {
   "cell_type": "code",
   "execution_count": 8,
   "id": "f81eeb0c-cde6-479c-b01b-46cf6a6779f7",
   "metadata": {},
   "outputs": [],
   "source": [
    "df_1 = pd.read_parquet(\"~/temp/movie/dt=20210101\")\n",
    "df_2 = pd.read_parquet(\"~/temp/movie\")\n",
    "\n",
    "df.to_parquet(base_path, partition_cols=['dt'])"
   ]
  },
  {
   "cell_type": "code",
   "execution_count": 5,
   "id": "386828a2-dcd8-426e-a686-5f39fb36b38c",
   "metadata": {},
   "outputs": [
    {
     "data": {
      "text/plain": [
       "Index(['rnum', 'rank', 'rankInten', 'rankOldAndNew', 'movieCd', 'movieNm',\n",
       "       'openDt', 'salesAmt', 'salesShare', 'salesInten', 'salesChange',\n",
       "       'salesAcc', 'audiCnt', 'audiInten', 'audiChange', 'audiAcc', 'scrnCnt',\n",
       "       'showCnt'],\n",
       "      dtype='object')"
      ]
     },
     "execution_count": 5,
     "metadata": {},
     "output_type": "execute_result"
    }
   ],
   "source": [
    "df_1.columns"
   ]
  },
  {
   "cell_type": "code",
   "execution_count": 6,
   "id": "bff117bf-5df0-4aca-a6cb-5db6439ccd52",
   "metadata": {},
   "outputs": [
    {
     "data": {
      "text/html": [
       "<div>\n",
       "<style scoped>\n",
       "    .dataframe tbody tr th:only-of-type {\n",
       "        vertical-align: middle;\n",
       "    }\n",
       "\n",
       "    .dataframe tbody tr th {\n",
       "        vertical-align: top;\n",
       "    }\n",
       "\n",
       "    .dataframe thead th {\n",
       "        text-align: right;\n",
       "    }\n",
       "</style>\n",
       "<table border=\"1\" class=\"dataframe\">\n",
       "  <thead>\n",
       "    <tr style=\"text-align: right;\">\n",
       "      <th></th>\n",
       "      <th>rnum</th>\n",
       "      <th>rank</th>\n",
       "      <th>rankInten</th>\n",
       "      <th>rankOldAndNew</th>\n",
       "      <th>movieCd</th>\n",
       "      <th>movieNm</th>\n",
       "      <th>openDt</th>\n",
       "      <th>salesAmt</th>\n",
       "      <th>salesShare</th>\n",
       "      <th>salesInten</th>\n",
       "      <th>salesChange</th>\n",
       "      <th>salesAcc</th>\n",
       "      <th>audiCnt</th>\n",
       "      <th>audiInten</th>\n",
       "      <th>audiChange</th>\n",
       "      <th>audiAcc</th>\n",
       "      <th>scrnCnt</th>\n",
       "      <th>showCnt</th>\n",
       "    </tr>\n",
       "  </thead>\n",
       "  <tbody>\n",
       "    <tr>\n",
       "      <th>0</th>\n",
       "      <td>1</td>\n",
       "      <td>1</td>\n",
       "      <td>0</td>\n",
       "      <td>OLD</td>\n",
       "      <td>20192567</td>\n",
       "      <td>원더 우먼 1984</td>\n",
       "      <td>2020-12-23</td>\n",
       "      <td>274407080</td>\n",
       "      <td>51.4</td>\n",
       "      <td>41920830</td>\n",
       "      <td>18</td>\n",
       "      <td>3764838540</td>\n",
       "      <td>29884</td>\n",
       "      <td>2462</td>\n",
       "      <td>9</td>\n",
       "      <td>420870</td>\n",
       "      <td>1877</td>\n",
       "      <td>4329</td>\n",
       "    </tr>\n",
       "  </tbody>\n",
       "</table>\n",
       "</div>"
      ],
      "text/plain": [
       "  rnum rank rankInten rankOldAndNew   movieCd     movieNm      openDt  \\\n",
       "0    1    1         0           OLD  20192567  원더 우먼 1984  2020-12-23   \n",
       "\n",
       "    salesAmt salesShare salesInten salesChange    salesAcc audiCnt audiInten  \\\n",
       "0  274407080       51.4   41920830          18  3764838540   29884      2462   \n",
       "\n",
       "  audiChange audiAcc scrnCnt showCnt  \n",
       "0          9  420870    1877    4329  "
      ]
     },
     "execution_count": 6,
     "metadata": {},
     "output_type": "execute_result"
    }
   ],
   "source": [
    "df_1.head(1)"
   ]
  },
  {
   "cell_type": "code",
   "execution_count": 7,
   "id": "9e00adba-8df3-4372-82df-d0ebb3f88cce",
   "metadata": {},
   "outputs": [
    {
     "data": {
      "text/html": [
       "<div>\n",
       "<style scoped>\n",
       "    .dataframe tbody tr th:only-of-type {\n",
       "        vertical-align: middle;\n",
       "    }\n",
       "\n",
       "    .dataframe tbody tr th {\n",
       "        vertical-align: top;\n",
       "    }\n",
       "\n",
       "    .dataframe thead th {\n",
       "        text-align: right;\n",
       "    }\n",
       "</style>\n",
       "<table border=\"1\" class=\"dataframe\">\n",
       "  <thead>\n",
       "    <tr style=\"text-align: right;\">\n",
       "      <th></th>\n",
       "      <th>rnum</th>\n",
       "      <th>rank</th>\n",
       "      <th>rankInten</th>\n",
       "      <th>rankOldAndNew</th>\n",
       "      <th>movieCd</th>\n",
       "      <th>movieNm</th>\n",
       "      <th>openDt</th>\n",
       "      <th>salesAmt</th>\n",
       "      <th>salesShare</th>\n",
       "      <th>salesInten</th>\n",
       "      <th>salesChange</th>\n",
       "      <th>salesAcc</th>\n",
       "      <th>audiCnt</th>\n",
       "      <th>audiInten</th>\n",
       "      <th>audiChange</th>\n",
       "      <th>audiAcc</th>\n",
       "      <th>scrnCnt</th>\n",
       "      <th>showCnt</th>\n",
       "      <th>dt</th>\n",
       "    </tr>\n",
       "  </thead>\n",
       "  <tbody>\n",
       "    <tr>\n",
       "      <th>0</th>\n",
       "      <td>1</td>\n",
       "      <td>1</td>\n",
       "      <td>0</td>\n",
       "      <td>OLD</td>\n",
       "      <td>20192567</td>\n",
       "      <td>원더 우먼 1984</td>\n",
       "      <td>2020-12-23</td>\n",
       "      <td>274407080</td>\n",
       "      <td>51.4</td>\n",
       "      <td>41920830</td>\n",
       "      <td>18</td>\n",
       "      <td>3764838540</td>\n",
       "      <td>29884</td>\n",
       "      <td>2462</td>\n",
       "      <td>9</td>\n",
       "      <td>420870</td>\n",
       "      <td>1877</td>\n",
       "      <td>4329</td>\n",
       "      <td>20210101</td>\n",
       "    </tr>\n",
       "  </tbody>\n",
       "</table>\n",
       "</div>"
      ],
      "text/plain": [
       "  rnum rank rankInten rankOldAndNew   movieCd     movieNm      openDt  \\\n",
       "0    1    1         0           OLD  20192567  원더 우먼 1984  2020-12-23   \n",
       "\n",
       "    salesAmt salesShare salesInten salesChange    salesAcc audiCnt audiInten  \\\n",
       "0  274407080       51.4   41920830          18  3764838540   29884      2462   \n",
       "\n",
       "  audiChange audiAcc scrnCnt showCnt        dt  \n",
       "0          9  420870    1877    4329  20210101  "
      ]
     },
     "execution_count": 7,
     "metadata": {},
     "output_type": "execute_result"
    }
   ],
   "source": [
    "df_2.head(1)"
   ]
  },
  {
   "cell_type": "code",
   "execution_count": null,
   "id": "71bf8cc4-8435-4fc8-a15e-59f56e396344",
   "metadata": {},
   "outputs": [],
   "source": []
  }
 ],
 "metadata": {
  "kernelspec": {
   "display_name": "Python 3 (ipykernel)",
   "language": "python",
   "name": "python3"
  },
  "language_info": {
   "codemirror_mode": {
    "name": "ipython",
    "version": 3
   },
   "file_extension": ".py",
   "mimetype": "text/x-python",
   "name": "python",
   "nbconvert_exporter": "python",
   "pygments_lexer": "ipython3",
   "version": "3.12.3"
  }
 },
 "nbformat": 4,
 "nbformat_minor": 5
}
