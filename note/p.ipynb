{
 "cells": [
  {
   "cell_type": "code",
   "execution_count": 3,
   "id": "38f908e8-8251-43bf-8788-ffbc9b2d5a36",
   "metadata": {},
   "outputs": [],
   "source": [
    "import pandas as pd\n",
    "BASE_PATH = \"~/data/movies/dailyboxoffice/dt=20240101\"\n",
    "\n",
    "df = pd.read_parquet(BASE_PATH)"
   ]
  },
  {
   "cell_type": "code",
   "execution_count": 5,
   "id": "ff0c2f67-f387-4f1f-aef4-e9697d0e8c36",
   "metadata": {},
   "outputs": [
    {
     "data": {
      "text/plain": [
       "Index(['rnum', 'rank', 'rankInten', 'rankOldAndNew', 'movieCd', 'movieNm',\n",
       "       'openDt', 'salesAmt', 'salesShare', 'salesInten', 'salesChange',\n",
       "       'salesAcc', 'audiCnt', 'audiInten', 'audiChange', 'audiAcc', 'scrnCnt',\n",
       "       'showCnt', 'multiMovieYn', 'repNationCd'],\n",
       "      dtype='object')"
      ]
     },
     "execution_count": 5,
     "metadata": {},
     "output_type": "execute_result"
    }
   ],
   "source": [
    "df.columns"
   ]
  },
  {
   "cell_type": "code",
   "execution_count": 6,
   "id": "6c083667-2fd7-45e9-a73d-7b004040653b",
   "metadata": {},
   "outputs": [],
   "source": [
    "df.to_parquet(\"~/temp/t_p_1\", partition_cols=['openDt', 'movieCd'])"
   ]
  },
  {
   "cell_type": "code",
   "execution_count": null,
   "id": "651e3756-5ea7-43fc-a71f-2ffdeef87520",
   "metadata": {},
   "outputs": [],
   "source": [
    "# └── openDt=2024-01-10\n",
    "#     └── movieCd=20236533\n",
    "#         └── 83d35d3869db4c0d91e75ac421b51542-0.parquet"
   ]
  },
  {
   "cell_type": "code",
   "execution_count": 7,
   "id": "cf76cc59-3d79-41cc-a0b6-7c9cf7e77606",
   "metadata": {},
   "outputs": [],
   "source": [
    "df.to_parquet(\"~/temp/t_p_2\", \n",
    "              partition_cols=['openDt', 'salesAmt', 'repNationCd'])"
   ]
  },
  {
   "cell_type": "code",
   "execution_count": null,
   "id": "5fa0812e-4587-4c34-ad75-0c5f07a3317d",
   "metadata": {},
   "outputs": [],
   "source": [
    "# └── openDt=2024-01-10\n",
    "#     └── salesAmt=2804970\n",
    "#         └── repNationCd=__HIVE_DEFAULT_PARTITION__\n",
    "#             └── 41ad2111fc9c4f9aadba26c6231d4752-0.parquet"
   ]
  }
 ],
 "metadata": {
  "kernelspec": {
   "display_name": "Python 3 (ipykernel)",
   "language": "python",
   "name": "python3"
  },
  "language_info": {
   "codemirror_mode": {
    "name": "ipython",
    "version": 3
   },
   "file_extension": ".py",
   "mimetype": "text/x-python",
   "name": "python",
   "nbconvert_exporter": "python",
   "pygments_lexer": "ipython3",
   "version": "3.12.3"
  }
 },
 "nbformat": 4,
 "nbformat_minor": 5
}
