{
 "cells": [
  {
   "cell_type": "code",
   "execution_count": 17,
   "id": "befc5d73-312f-44b6-8d2a-d9e851a13067",
   "metadata": {},
   "outputs": [
    {
     "name": "stdout",
     "output_type": "stream",
     "text": [
      "  movieCd multiMovieYn repNationCd\n",
      "0    1001            Y           K\n",
      "1    1002            Y           F\n",
      "2    1003            N        None\n"
     ]
    }
   ],
   "source": [
    "import pandas as pd\n",
    "\n",
    "A = pd.DataFrame({\n",
    "    \"movieCd\": [\"1001\", \"1002\", \"1003\"],\n",
    "    \"multiMovieYn\": [\"Y\", \"Y\", \"N\"],\n",
    "    \"repNationCd\": [\"K\", \"F\", None]\n",
    "})\n",
    "\n",
    "print(A)"
   ]
  },
  {
   "cell_type": "code",
   "execution_count": 18,
   "id": "70925ba1-ffa1-4c80-8293-489e9899ed13",
   "metadata": {},
   "outputs": [
    {
     "name": "stdout",
     "output_type": "stream",
     "text": [
      "  movieCd multiMovieYn repNationCd\n",
      "0    1001         None        None\n",
      "1    1003            Y           F\n",
      "2    1004            Y           K\n"
     ]
    }
   ],
   "source": [
    "B = pd.DataFrame({\n",
    "    \"movieCd\": [\"1001\", \"1003\", \"1004\"],\n",
    "    \"multiMovieYn\": [None, \"Y\", \"Y\"],\n",
    "    \"repNationCd\": [None, \"F\", \"K\"]\n",
    "})\n",
    "\n",
    "print(B)"
   ]
  },
  {
   "cell_type": "code",
   "execution_count": 19,
   "id": "4fdce674-6900-42ce-accb-53cdf4914bef",
   "metadata": {},
   "outputs": [],
   "source": [
    "A.set_index(\"movieCd\", inplace=True)\n",
    "B.set_index(\"movieCd\", inplace=True)"
   ]
  },
  {
   "cell_type": "code",
   "execution_count": 20,
   "id": "e967368a-243f-492b-8382-143fff899f42",
   "metadata": {},
   "outputs": [
    {
     "data": {
      "text/html": [
       "<div>\n",
       "<style scoped>\n",
       "    .dataframe tbody tr th:only-of-type {\n",
       "        vertical-align: middle;\n",
       "    }\n",
       "\n",
       "    .dataframe tbody tr th {\n",
       "        vertical-align: top;\n",
       "    }\n",
       "\n",
       "    .dataframe thead th {\n",
       "        text-align: right;\n",
       "    }\n",
       "</style>\n",
       "<table border=\"1\" class=\"dataframe\">\n",
       "  <thead>\n",
       "    <tr style=\"text-align: right;\">\n",
       "      <th></th>\n",
       "      <th>multiMovieYn</th>\n",
       "      <th>repNationCd</th>\n",
       "    </tr>\n",
       "    <tr>\n",
       "      <th>movieCd</th>\n",
       "      <th></th>\n",
       "      <th></th>\n",
       "    </tr>\n",
       "  </thead>\n",
       "  <tbody>\n",
       "    <tr>\n",
       "      <th>1001</th>\n",
       "      <td>Y</td>\n",
       "      <td>K</td>\n",
       "    </tr>\n",
       "    <tr>\n",
       "      <th>1002</th>\n",
       "      <td>Y</td>\n",
       "      <td>F</td>\n",
       "    </tr>\n",
       "    <tr>\n",
       "      <th>1003</th>\n",
       "      <td>N</td>\n",
       "      <td>F</td>\n",
       "    </tr>\n",
       "    <tr>\n",
       "      <th>1004</th>\n",
       "      <td>Y</td>\n",
       "      <td>K</td>\n",
       "    </tr>\n",
       "  </tbody>\n",
       "</table>\n",
       "</div>"
      ],
      "text/plain": [
       "        multiMovieYn repNationCd\n",
       "movieCd                         \n",
       "1001               Y           K\n",
       "1002               Y           F\n",
       "1003               N           F\n",
       "1004               Y           K"
      ]
     },
     "execution_count": 20,
     "metadata": {},
     "output_type": "execute_result"
    }
   ],
   "source": [
    "r_df=A.combine_first(B)\n",
    "r_df"
   ]
  },
  {
   "cell_type": "code",
   "execution_count": 21,
   "id": "1c0039d8-febb-42b1-b875-310eee04addd",
   "metadata": {},
   "outputs": [
    {
     "data": {
      "text/html": [
       "<div>\n",
       "<style scoped>\n",
       "    .dataframe tbody tr th:only-of-type {\n",
       "        vertical-align: middle;\n",
       "    }\n",
       "\n",
       "    .dataframe tbody tr th {\n",
       "        vertical-align: top;\n",
       "    }\n",
       "\n",
       "    .dataframe thead th {\n",
       "        text-align: right;\n",
       "    }\n",
       "</style>\n",
       "<table border=\"1\" class=\"dataframe\">\n",
       "  <thead>\n",
       "    <tr style=\"text-align: right;\">\n",
       "      <th></th>\n",
       "      <th>movieCd</th>\n",
       "      <th>multiMovieYn</th>\n",
       "      <th>repNationCd</th>\n",
       "    </tr>\n",
       "  </thead>\n",
       "  <tbody>\n",
       "    <tr>\n",
       "      <th>0</th>\n",
       "      <td>1001</td>\n",
       "      <td>Y</td>\n",
       "      <td>K</td>\n",
       "    </tr>\n",
       "    <tr>\n",
       "      <th>1</th>\n",
       "      <td>1002</td>\n",
       "      <td>Y</td>\n",
       "      <td>F</td>\n",
       "    </tr>\n",
       "    <tr>\n",
       "      <th>2</th>\n",
       "      <td>1003</td>\n",
       "      <td>N</td>\n",
       "      <td>F</td>\n",
       "    </tr>\n",
       "    <tr>\n",
       "      <th>3</th>\n",
       "      <td>1004</td>\n",
       "      <td>Y</td>\n",
       "      <td>K</td>\n",
       "    </tr>\n",
       "  </tbody>\n",
       "</table>\n",
       "</div>"
      ],
      "text/plain": [
       "  movieCd multiMovieYn repNationCd\n",
       "0    1001            Y           K\n",
       "1    1002            Y           F\n",
       "2    1003            N           F\n",
       "3    1004            Y           K"
      ]
     },
     "execution_count": 21,
     "metadata": {},
     "output_type": "execute_result"
    }
   ],
   "source": [
    "r_df.reset_index(inplace=True)\n",
    "r_df"
   ]
  },
  {
   "cell_type": "code",
   "execution_count": 22,
   "id": "fce87f0f-ddb4-4ec1-aed5-205469b4ec28",
   "metadata": {},
   "outputs": [
    {
     "name": "stdout",
     "output_type": "stream",
     "text": [
      "        multiMovieYn_A repNationCd_A multiMovieYn_B repNationCd_B\n",
      "movieCd                                                          \n",
      "1001                 Y             K           None          None\n",
      "1002                 Y             F            NaN           NaN\n",
      "1003                 N          None              Y             F\n",
      "1004               NaN           NaN              Y             K\n"
     ]
    }
   ],
   "source": [
    "merged_df = A.merge(B, on=\"movieCd\", how=\"outer\", suffixes=(\"_A\", \"_B\"))\n",
    "print(merged_df)"
   ]
  },
  {
   "cell_type": "code",
   "execution_count": 26,
   "id": "9a53ad53-eb7c-47ea-acb7-1f4f5ce16035",
   "metadata": {},
   "outputs": [
    {
     "name": "stdout",
     "output_type": "stream",
     "text": [
      "        multiMovieYn_A repNationCd_A multiMovieYn_B repNationCd_B\n",
      "movieCd                                                          \n",
      "1001                 Y             K              Y             K\n",
      "1002                 Y             F              Y             F\n",
      "1003                 N             F              Y             F\n",
      "1004                 Y             K              Y             K\n"
     ]
    }
   ],
   "source": [
    "if pd.isna(merged_df.iloc[0, 0]):\n",
    "    merged_df.iloc[0, 0] = merged_df.iloc[0, 2]\n",
    "\n",
    "if pd.isna(merged_df.iloc[0, 1]):\n",
    "    merged_df.iloc[0, 1] = merged_df.iloc[0, 3]\n",
    "\n",
    "if pd.isna(merged_df.iloc[1, 0]):\n",
    "    merged_df.iloc[1, 0] = merged_df.iloc[1, 2]\n",
    "\n",
    "if pd.isna(merged_df.iloc[1, 1]):\n",
    "    merged_df.iloc[1, 1] = merged_df.iloc[1, 3]\n",
    "\n",
    "if pd.isna(merged_df.iloc[2, 0]):\n",
    "    merged_df.iloc[2, 0] = merged_df.iloc[2, 2]\n",
    "\n",
    "if pd.isna(merged_df.iloc[2, 1]):\n",
    "    merged_df.iloc[2, 1] = merged_df.iloc[2, 3]\n",
    "\n",
    "if pd.isna(merged_df.iloc[3, 0]):\n",
    "    merged_df.iloc[3, 0] = merged_df.iloc[3, 2]\n",
    "\n",
    "if pd.isna(merged_df.iloc[3, 1]):\n",
    "    merged_df.iloc[3, 1] = merged_df.iloc[3, 3]\n",
    "\n",
    "if pd.isna(merged_df.iloc[0, 2]):\n",
    "    merged_df.iloc[0, 2] = merged_df.iloc[0, 0]\n",
    "\n",
    "if pd.isna(merged_df.iloc[0, 3]):\n",
    "    merged_df.iloc[0, 3] = merged_df.iloc[0, 1]\n",
    "\n",
    "if pd.isna(merged_df.iloc[1, 2]):\n",
    "    merged_df.iloc[1, 2] = merged_df.iloc[1, 0]\n",
    "\n",
    "if pd.isna(merged_df.iloc[1, 3]):\n",
    "    merged_df.iloc[1, 3] = merged_df.iloc[1, 1]\n",
    "\n",
    "if pd.isna(merged_df.iloc[2, 2]):\n",
    "    merged_df.iloc[2, 2] = merged_df.iloc[2, 0]\n",
    "\n",
    "if pd.isna(merged_df.iloc[2, 3]):\n",
    "    merged_df.iloc[2, 3] = merged_df.iloc[2, 1]\n",
    "\n",
    "if pd.isna(merged_df.iloc[3, 2]):\n",
    "    merged_df.iloc[3, 2] = merged_df.iloc[3, 0]\n",
    "\n",
    "if pd.isna(merged_df.iloc[3, 3]):\n",
    "    merged_df.iloc[3, 3] = merged_df.iloc[3, 1]\n",
    "\n",
    "\n",
    "\n",
    "print(merged_df)"
   ]
  },
  {
   "cell_type": "code",
   "execution_count": null,
   "id": "df9a2c43-209c-4ab8-b6af-8eea6b307a93",
   "metadata": {},
   "outputs": [],
   "source": []
  }
 ],
 "metadata": {
  "kernelspec": {
   "display_name": "Python 3 (ipykernel)",
   "language": "python",
   "name": "python3"
  },
  "language_info": {
   "codemirror_mode": {
    "name": "ipython",
    "version": 3
   },
   "file_extension": ".py",
   "mimetype": "text/x-python",
   "name": "python",
   "nbconvert_exporter": "python",
   "pygments_lexer": "ipython3",
   "version": "3.12.3"
  }
 },
 "nbformat": 4,
 "nbformat_minor": 5
}
