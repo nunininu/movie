{
 "cells": [
  {
   "cell_type": "code",
   "execution_count": 19,
   "id": "e41befc3-098f-4cc0-bb58-db565685accd",
   "metadata": {},
   "outputs": [
    {
     "data": {
      "text/html": [
       "<div>\n",
       "<style scoped>\n",
       "    .dataframe tbody tr th:only-of-type {\n",
       "        vertical-align: middle;\n",
       "    }\n",
       "\n",
       "    .dataframe tbody tr th {\n",
       "        vertical-align: top;\n",
       "    }\n",
       "\n",
       "    .dataframe thead th {\n",
       "        text-align: right;\n",
       "    }\n",
       "</style>\n",
       "<table border=\"1\" class=\"dataframe\">\n",
       "  <thead>\n",
       "    <tr style=\"text-align: right;\">\n",
       "      <th></th>\n",
       "      <th>movieCd</th>\n",
       "      <th>multiMovieYn</th>\n",
       "      <th>repNationCd</th>\n",
       "    </tr>\n",
       "  </thead>\n",
       "  <tbody>\n",
       "    <tr>\n",
       "      <th>0</th>\n",
       "      <td>1001</td>\n",
       "      <td>Y</td>\n",
       "      <td>K</td>\n",
       "    </tr>\n",
       "    <tr>\n",
       "      <th>1</th>\n",
       "      <td>1002</td>\n",
       "      <td>Y</td>\n",
       "      <td>F</td>\n",
       "    </tr>\n",
       "    <tr>\n",
       "      <th>2</th>\n",
       "      <td>1003</td>\n",
       "      <td>N</td>\n",
       "      <td>F</td>\n",
       "    </tr>\n",
       "    <tr>\n",
       "      <th>3</th>\n",
       "      <td>1004</td>\n",
       "      <td>Y</td>\n",
       "      <td>K</td>\n",
       "    </tr>\n",
       "  </tbody>\n",
       "</table>\n",
       "</div>"
      ],
      "text/plain": [
       "  movieCd multiMovieYn repNationCd\n",
       "0    1001            Y           K\n",
       "1    1002            Y           F\n",
       "2    1003            N           F\n",
       "3    1004            Y           K"
      ]
     },
     "execution_count": 19,
     "metadata": {},
     "output_type": "execute_result"
    }
   ],
   "source": [
    "import pandas as pd\n",
    "\n",
    "def fillna_meta(previous_df, current_df):\n",
    "    previous_df = pd.DataFrame(\n",
    "        {\n",
    "            \"movieCd\": [\"1001\", \"1002\", \"1003\"],\n",
    "            \"multiMovieYn\": [\"Y\", \"Y\", \"N\"],\n",
    "            \"repNationCd\": [\"K\", \"F\", None],\n",
    "        }\n",
    "    )\n",
    "    \n",
    "    current_df = pd.DataFrame(\n",
    "        {\n",
    "            \"movieCd\": [\"1001\", \"1003\", \"1004\"],\n",
    "            \"multiMovieYn\": [None, \"Y\", \"Y\"],\n",
    "            \"repNationCd\": [None, \"F\", \"K\"],\n",
    "        }\n",
    "    )\n",
    "    \n",
    "    previous_df.set_index(\"movieCd\", inplace=True)\n",
    "    current_df.set_index(\"movieCd\", inplace=True)\n",
    "    \n",
    "    merged_df = previous_df.merge(current_df, on=\"movieCd\", how=\"outer\", suffixes=(\"_A\", \"_B\"))\n",
    "\n",
    "    for i in range(0,len(merged_df)):    \n",
    "        if pd.isna(merged_df.iloc[i, 0]):\n",
    "            merged_df.iloc[i, 0] = merged_df.iloc[i, 2]\n",
    "        if pd.isna(merged_df.iloc[i, 1]):\n",
    "            merged_df.iloc[i, 1] = merged_df.iloc[i, 3]\n",
    "\n",
    " \n",
    "    multiMovieYn = merged_df.copy()['multiMovieYn_A'].tolist()     \n",
    "    repNationCd = merged_df.copy()['repNationCd_A'].tolist()\n",
    "    data = {\"multiMovieYn\": multiMovieYn, \"repNationCd\": repNationCd}\n",
    "    df = pd.DataFrame(data)\n",
    "    df[\"movieCd\"] = merged_df.index\n",
    "    \n",
    "    # movieCd 열을 맨 왼쪽으로 이동 \n",
    "    df.insert(0, 'movieCd', df.pop('movieCd'))\n",
    "\n",
    "    return df\n",
    "    \n",
    "\n",
    "fillna_meta(previous_df, current_df)"
   ]
  },
  {
   "cell_type": "code",
   "execution_count": 20,
   "id": "d1462e2c-bd73-4600-9e7c-5d0f2d516f3d",
   "metadata": {},
   "outputs": [],
   "source": [
    "def test_fillna_meta():\n",
    "    previous_df = pd.DataFrame(\n",
    "        {\n",
    "            \"movieCd\": [\"1001\", \"1002\", \"1003\"],\n",
    "            \"multiMovieYn\": [\"Y\", \"Y\", \"N\"],\n",
    "            \"repNationCd\": [\"K\", \"F\", None],\n",
    "        }\n",
    "    )\n",
    "\n",
    "    current_df = pd.DataFrame(\n",
    "        {\n",
    "            \"movieCd\": [\"1001\", \"1003\", \"1004\"],\n",
    "            \"multiMovieYn\": [None, \"Y\", \"Y\"],\n",
    "            \"repNationCd\": [None, \"F\", \"K\"],\n",
    "        }\n",
    "    )\n",
    "\n",
    "    r_df = fillna_meta(previous_df, current_df)\n",
    "\n",
    "    assert not r_df.isnull().values.any(), \"결과 데이터프레임에 NaN 또는 None 값이 있습니다!\""
   ]
  },
  {
   "cell_type": "code",
   "execution_count": 21,
   "id": "e27d0869-b1d9-4521-b089-9ea917c92322",
   "metadata": {},
   "outputs": [
    {
     "data": {
      "text/html": [
       "<div>\n",
       "<style scoped>\n",
       "    .dataframe tbody tr th:only-of-type {\n",
       "        vertical-align: middle;\n",
       "    }\n",
       "\n",
       "    .dataframe tbody tr th {\n",
       "        vertical-align: top;\n",
       "    }\n",
       "\n",
       "    .dataframe thead th {\n",
       "        text-align: right;\n",
       "    }\n",
       "</style>\n",
       "<table border=\"1\" class=\"dataframe\">\n",
       "  <thead>\n",
       "    <tr style=\"text-align: right;\">\n",
       "      <th></th>\n",
       "      <th>movieCd</th>\n",
       "      <th>multiMovieYn</th>\n",
       "      <th>repNationCd</th>\n",
       "    </tr>\n",
       "  </thead>\n",
       "  <tbody>\n",
       "    <tr>\n",
       "      <th>0</th>\n",
       "      <td>1001</td>\n",
       "      <td>Y</td>\n",
       "      <td>K</td>\n",
       "    </tr>\n",
       "    <tr>\n",
       "      <th>1</th>\n",
       "      <td>1002</td>\n",
       "      <td>Y</td>\n",
       "      <td>F</td>\n",
       "    </tr>\n",
       "    <tr>\n",
       "      <th>2</th>\n",
       "      <td>1003</td>\n",
       "      <td>N</td>\n",
       "      <td>F</td>\n",
       "    </tr>\n",
       "    <tr>\n",
       "      <th>3</th>\n",
       "      <td>1004</td>\n",
       "      <td>Y</td>\n",
       "      <td>K</td>\n",
       "    </tr>\n",
       "  </tbody>\n",
       "</table>\n",
       "</div>"
      ],
      "text/plain": [
       "  movieCd multiMovieYn repNationCd\n",
       "0    1001            Y           K\n",
       "1    1002            Y           F\n",
       "2    1003            N           F\n",
       "3    1004            Y           K"
      ]
     },
     "execution_count": 21,
     "metadata": {},
     "output_type": "execute_result"
    }
   ],
   "source": [
    "r_df = fillna_meta(previous_df, current_df)\n",
    "r_df"
   ]
  },
  {
   "cell_type": "code",
   "execution_count": 22,
   "id": "68242b32-cc2a-494d-9e3a-7c332d4c9775",
   "metadata": {},
   "outputs": [],
   "source": [
    "import pandas as pd\n",
    "\n",
    "previous_df = None\n",
    "\n",
    "current_df = pd.DataFrame(\n",
    "    {\n",
    "        \"movieCd\": [\"1001\", \"1003\", \"1004\"],\n",
    "        \"multiMovieYn\": [None, \"Y\", \"Y\"],\n",
    "        \"repNationCd\": [None, \"F\", \"K\"],\n",
    "    }\n",
    ")"
   ]
  },
  {
   "cell_type": "code",
   "execution_count": 23,
   "id": "142fe7b4-06c6-4396-ad27-d27abd345445",
   "metadata": {},
   "outputs": [
    {
     "ename": "AttributeError",
     "evalue": "'NoneType' object has no attribute 'set_index'",
     "output_type": "error",
     "traceback": [
      "\u001b[0;31m---------------------------------------------------------------------------\u001b[0m",
      "\u001b[0;31mAttributeError\u001b[0m                            Traceback (most recent call last)",
      "Cell \u001b[0;32mIn[23], line 1\u001b[0m\n\u001b[0;32m----> 1\u001b[0m \u001b[43mprevious_df\u001b[49m\u001b[38;5;241;43m.\u001b[39;49m\u001b[43mset_index\u001b[49m(\u001b[38;5;124m\"\u001b[39m\u001b[38;5;124mmovieCd\u001b[39m\u001b[38;5;124m\"\u001b[39m, inplace\u001b[38;5;241m=\u001b[39m\u001b[38;5;28;01mTrue\u001b[39;00m)\n\u001b[1;32m      2\u001b[0m current_df\u001b[38;5;241m.\u001b[39mset_index(\u001b[38;5;124m\"\u001b[39m\u001b[38;5;124mmovieCd\u001b[39m\u001b[38;5;124m\"\u001b[39m, inplace\u001b[38;5;241m=\u001b[39m\u001b[38;5;28;01mTrue\u001b[39;00m)\n\u001b[1;32m      4\u001b[0m merged_df \u001b[38;5;241m=\u001b[39m previous_df\u001b[38;5;241m.\u001b[39mmerge(current_df, on\u001b[38;5;241m=\u001b[39m\u001b[38;5;124m\"\u001b[39m\u001b[38;5;124mmovieCd\u001b[39m\u001b[38;5;124m\"\u001b[39m, how\u001b[38;5;241m=\u001b[39m\u001b[38;5;124m\"\u001b[39m\u001b[38;5;124mouter\u001b[39m\u001b[38;5;124m\"\u001b[39m, suffixes\u001b[38;5;241m=\u001b[39m(\u001b[38;5;124m\"\u001b[39m\u001b[38;5;124m_A\u001b[39m\u001b[38;5;124m\"\u001b[39m, \u001b[38;5;124m\"\u001b[39m\u001b[38;5;124m_B\u001b[39m\u001b[38;5;124m\"\u001b[39m))\n",
      "\u001b[0;31mAttributeError\u001b[0m: 'NoneType' object has no attribute 'set_index'"
     ]
    }
   ],
   "source": [
    "previous_df.set_index(\"movieCd\", inplace=True)\n",
    "current_df.set_index(\"movieCd\", inplace=True)\n",
    "\n",
    "merged_df = previous_df.merge(current_df, on=\"movieCd\", how=\"outer\", suffixes=(\"_A\", \"_B\"))\n",
    "\n",
    "merged_df"
   ]
  },
  {
   "cell_type": "code",
   "execution_count": null,
   "id": "fa56478a-29c4-475f-8b8b-1e78bc039c77",
   "metadata": {},
   "outputs": [],
   "source": []
  }
 ],
 "metadata": {
  "kernelspec": {
   "display_name": "Python 3 (ipykernel)",
   "language": "python",
   "name": "python3"
  },
  "language_info": {
   "codemirror_mode": {
    "name": "ipython",
    "version": 3
   },
   "file_extension": ".py",
   "mimetype": "text/x-python",
   "name": "python",
   "nbconvert_exporter": "python",
   "pygments_lexer": "ipython3",
   "version": "3.12.3"
  }
 },
 "nbformat": 4,
 "nbformat_minor": 5
}
